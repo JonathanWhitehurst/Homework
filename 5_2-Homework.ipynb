{
 "cells": [
  {
   "cell_type": "markdown",
   "metadata": {},
   "source": [
    "<font color=white>\n",
    "\n",
    "#### *What is an algorithm?*\n",
    "<font color=default>\n",
    "\n",
    "        An algorithm is a series of steps to solve the problem at hand.\n",
    "\n",
    "<font color=white> \n",
    "\n",
    "#### *Why is Python considered to be a high-level language?*\n",
    "\n",
    "<font color=default>\n",
    "\n",
    "        Python is written and read more like natural language than \"machine language.  It is shorter and easier for humans to read.**\n",
    "\n",
    "<font color=white>\n",
    "\n",
    "#### *Is Python a Natural or a Formal language?*\n",
    "\n",
    "        Python is a formal language.  All programming languages, which demand rules regarding syntax, fall under this.\n",
    "\n",
    "\n",
    "\n",
    "\n",
    "\n",
    "#### *Variable names may not start with certain characters - name two.*\n",
    "<font color=default> \n",
    "\n",
    "        * Special character (i.e. an operand)\n",
    "        * Number\n",
    "<font color=white>\n",
    "\n",
    "#### *What is a Semantic error?*\n",
    "\n",
    "        Semantic error is grammatically correct but doesn't make any sense.\n",
    "\n",
    "#### *What is the #1 rule of coding / debugging?*\n",
    "\n",
    "        Complexity is the enemy of efficiency!\n",
    "\n",
    "#### *List 5 Python reserved words.*\n",
    "\n",
    "<font color=tan> \n",
    "\n",
    "1. True\n",
    "2. False\n",
    "3. None\n",
    "4. For\n",
    "5. While\n",
    "   \n",
    "  \n",
    "\n",
    "\n",
    "\n",
    "\n",
    "## <font color=red>[Designing My Markdown](https://towardsdatascience.com/enrich-your-jupyter-notebook-with-these-tips-55c8ead25255)"
   ]
  },
  {
   "cell_type": "code",
   "execution_count": 69,
   "metadata": {},
   "outputs": [
    {
     "name": "stdout",
     "output_type": "stream",
     "text": [
      "Barbamexipizzaburgercream is  25 characters long.\n",
      "The fourth character, 'b', is at index position 3 .\n",
      "ing Data Analytics\n",
      "The variable Savvy String contains 'Python'.  See... \n",
      "      Learning Data Analytics and Python is great!\n",
      "Hi my name is Jonathan, I am 71 inches tall and 39 years old today.\n",
      "39.0\n"
     ]
    }
   ],
   "source": [
    "\"\"\"\n",
    "\n",
    "Name: Jonathan Whitehurst\n",
    "Favorite food: Barbecue... I mean Mexican... or pizza.  Cheeseburgers?  Ice cream?  It's one of those.\n",
    "Dream Job: Savvy Coders Instructor - Top notch!\n",
    "\n",
    "(The above used a 'docstring' to comment out the lines.  \n",
    "#Also possible is the use of a hashtag, shown left, on each line.  Ctrl + / while highlighting all lines will comment them all out together.)\n",
    "\"\"\"\n",
    "\n",
    "favoriteFood = str(\"Barbamexipizzaburgercream\")\n",
    "favoriteNumber = int(40)\n",
    "changeinPocket = float(0.47)\n",
    "myVehicles = [\"Ford Fusion\", \"Ford F-350\", \"Chrysler Town & Country\", \"Dodge Grand Caravan\"]\n",
    "IamTired = True\n",
    "\n",
    "print(favoriteFood, \"is \", len(favoriteFood), \"characters long.\")\n",
    "\n",
    "x=favoriteFood.index(\"b\")\n",
    "print(\"The fourth character, 'b', is at index position\", x,\".\")\n",
    "\n",
    "Savvy = \"Learning Data Analytics and Python is Awesome!\"\n",
    "print(Savvy[5:23])\n",
    "\n",
    "Savvy = Savvy.replace(\"Awesome\", \"great\")\n",
    "\n",
    "if \"Python\" in Savvy:\n",
    "    print(\"The variable Savvy String contains 'Python'.  See... \\n     \", Savvy)\n",
    "\n",
    "name, age, length = str(\"Jonathan\"), int(39), str(\"71 inches tall\")\n",
    "\n",
    "miniBio = \"Hi my name is {}, I am {} and {} years old today.\" \n",
    "print(miniBio.format(name, length, age))\n",
    "\n",
    "print(float(age))\n"
   ]
  }
 ],
 "metadata": {
  "kernelspec": {
   "display_name": "Python 3.10.7 64-bit",
   "language": "python",
   "name": "python3"
  },
  "language_info": {
   "codemirror_mode": {
    "name": "ipython",
    "version": 3
   },
   "file_extension": ".py",
   "mimetype": "text/x-python",
   "name": "python",
   "nbconvert_exporter": "python",
   "pygments_lexer": "ipython3",
   "version": "3.10.7"
  },
  "orig_nbformat": 4,
  "vscode": {
   "interpreter": {
    "hash": "36deb38f97281769aaa11fe2ac72aeb40df89f0c9d4792e5daeb9153e040bd55"
   }
  }
 },
 "nbformat": 4,
 "nbformat_minor": 2
}
